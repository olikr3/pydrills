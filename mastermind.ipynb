{
 "cells": [
  {
   "cell_type": "markdown",
   "id": "fbbd70dc-5f6e-4fe3-a1e2-aac781ad6bd2",
   "metadata": {},
   "source": [
    "# Mastermind\n",
    "\n",
    "Mastermind is a two-player game, where one player represents an encoder, the second player the decoder.\n",
    "The encoder chooses a secret code by choosing a pattern of four differently colored pegs out of six total pegs of different color.\n",
    "The decoder tries to guess the code by himself placing guesses on a decoding board, for which he receives feedback, which gives him information to consider in subsequent turns.\n"
   ]
  },
  {
   "cell_type": "code",
   "execution_count": 95,
   "id": "a3659684-4ba3-4c25-8813-d43ee0df673d",
   "metadata": {},
   "outputs": [],
   "source": [
    "from functools import lru_cache\n",
    "from itertools import combinations, permutations\n",
    "from random import choice\n",
    "import matplotlib.pyplot as plt"
   ]
  },
  {
   "cell_type": "code",
   "execution_count": 96,
   "id": "d1fc2fc2-25ce-4b93-8ac4-92a921c4a9e9",
   "metadata": {},
   "outputs": [],
   "source": [
    "\"\"\" A game of mastermind. Rules: not duplicates, blanks allowed -> atleast for now \"\"\"\n",
    "Pattern = str # e.g. \"RRRR\" for four reds\n",
    "Feedback = str\n",
    "Hit, Present, Miss = 'HP.'"
   ]
  },
  {
   "cell_type": "markdown",
   "id": "4728ec89-53cc-425e-a28d-21e98d140abf",
   "metadata": {},
   "source": [
    "## Encoding feedback and giving information"
   ]
  },
  {
   "cell_type": "code",
   "execution_count": 97,
   "id": "94d31b51-5a5c-40c9-8d7a-4a61e48b850b",
   "metadata": {},
   "outputs": [],
   "source": [
    "@lru_cache(None)\n",
    "def give_feedback(guess: Pattern, target: Pattern) -> Feedback:\n",
    "    \"\"\" returns a four letter string representing Hits, Misses and Presents \"\"\"\n",
    "    feedback = [Hit if guess[i] == target[i] else Miss for i in range(4)] # deal with present later\n",
    "    for i in len(feedback):\n",
    "        if feedback[i] == Miss:\n",
    "            if target.contains(feedback[i]):\n",
    "                feedback[i] = P\n",
    "    return \"\".join(feedback)"
   ]
  },
  {
   "cell_type": "markdown",
   "id": "b9f96dbf-1f7e-4893-b0a4-a4461487cfa5",
   "metadata": {},
   "source": [
    "## Playing the game EP1 - the naive approach\n",
    "The naive approach would be to brute force the solution, which we can easily do since there are only $6^4$ possible patterns."
   ]
  },
  {
   "cell_type": "code",
   "execution_count": 98,
   "id": "c5f4efdf-ddd8-4061-813f-2716fbf14de5",
   "metadata": {},
   "outputs": [
    {
     "name": "stdout",
     "output_type": "stream",
     "text": [
      "360\n"
     ]
    },
    {
     "data": {
      "text/plain": [
       "177"
      ]
     },
     "execution_count": 98,
     "metadata": {},
     "output_type": "execute_result"
    }
   ],
   "source": [
    "universe = [\"1\",\"2\",\"3\",\"4\",\"5\",\"6\"]\n",
    "patterns = [\"\".join(perm) for perm in list(permutations(universe, 4))]\n",
    "print(len(patterns))\n",
    "N = len(patterns) # the number of permutations without blanks and duplicates\n",
    "def play(target: Pattern, wordlist, turns=N):\n",
    "    \"\"\" returns the number of turns until a word is guessed \"\"\"\n",
    "    lst = wordlist.copy()\n",
    "    for turn in range(0, N-1):\n",
    "        pick = choice(lst)\n",
    "        lst.remove(pick)\n",
    "        pick = str(pick)\n",
    "        if pick == target:\n",
    "            return turn+1\n",
    "\n",
    "play(patterns[0], patterns)\n",
    "#print(patterns[:20])"
   ]
  },
  {
   "cell_type": "code",
   "execution_count": 111,
   "id": "d5c190c1-808e-4e0b-8099-59c97c6b5a89",
   "metadata": {},
   "outputs": [
    {
     "data": {
      "text/plain": [
       "Text(0.5, 0, 'number of turns')"
      ]
     },
     "execution_count": 111,
     "metadata": {},
     "output_type": "execute_result"
    },
    {
     "data": {
      "image/png": "[encoded data removed]",
      "text/plain": [
       "<Figure size 640x480 with 1 Axes>"
      ]
     },
     "metadata": {},
     "output_type": "display_data"
    }
   ],
   "source": [
    "# list is empty, because it is passed by reference ad play removes from it\n",
    "def simulate(N: int):\n",
    "    turns = []\n",
    "    for i in range (0,N):\n",
    "        target = choice(patterns)\n",
    "        turns.append(play(target, patterns))\n",
    "    return turns\n",
    "\n",
    "# Let's play the game 200 times...\n",
    "sample = simulate(200)\n",
    "#print(sample)\n",
    "\n",
    "# Plot the result\n",
    "plt.hist(sample, density=True, bins=50)\n",
    "plt.xlabel(\"number of turns\")"
   ]
  },
  {
   "cell_type": "code",
   "execution_count": null,
   "id": "407c9361-db33-46ff-bc79-5f1933187b1e",
   "metadata": {},
   "outputs": [],
   "source": []
  }
 ],
 "metadata": {
  "kernelspec": {
   "display_name": "Python 3 (ipykernel)",
   "language": "python",
   "name": "python3"
  },
  "language_info": {
   "codemirror_mode": {
    "name": "ipython",
    "version": 3
   },
   "file_extension": ".py",
   "mimetype": "text/x-python",
   "name": "python",
   "nbconvert_exporter": "python",
   "pygments_lexer": "ipython3",
   "version": "3.12.5"
  }
 },
 "nbformat": 4,
 "nbformat_minor": 5
}
