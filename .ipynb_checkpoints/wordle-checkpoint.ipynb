{
 "cells": [
  {
   "cell_type": "markdown",
   "id": "00d40621-9d3e-4f65-9663-bab1670c2918",
   "metadata": {},
   "source": [
    "## Designing and improving a wordle solver\n",
    "Some interesting ressources:\\\n",
    "https://www.youtube.com/watch?v=v68zYyaEmEA&pp=ygUSM2JsdWUxYnJvd24gd29yZGxl\n"
   ]
  },
  {
   "cell_type": "markdown",
   "id": "8f09e032-c552-4c96-b80f-6504d17bfd2f",
   "metadata": {},
   "source": [
    "### Solving wordle - the naive approach\n",
    "\n",
    "Let's assume that we know nothing about wordle aside from the basic rules.\\\n",
    "It would then make sense to consider the relative frequencies of the letters of the english alphabet."
   ]
  },
  {
   "cell_type": "code",
   "execution_count": 1,
   "id": "2cbae204-e37a-4abf-aafc-1dabca9c0817",
   "metadata": {},
   "outputs": [],
   "source": [
    "import numpy\n",
    "import math\n",
    "import itertools\n",
    "from enum import Enum"
   ]
  },
  {
   "cell_type": "code",
   "execution_count": 2,
   "id": "1488ef02-fa0b-4664-9c9d-6adeda0ef47d",
   "metadata": {},
   "outputs": [],
   "source": [
    "\"\"\" map letters of alphabet to their relative frequencies\n",
    "see https://www3.nd.edu/~busiforc/handouts/cryptography/letterfrequencies.html \"\"\"\n",
    "relative_frequency_table = {\n",
    "    'E': 0.1116, 'B': 0.085, 'R': 0.0758, 'I': 0.0754, 'O': 0.0716, 'T': 0.0695, 'N': 0.0654,\n",
    "    'S': 0.0574, 'L': 0.0548, 'C': 0.0454, 'U': 0.0363, 'D': 0.0338, 'P': 0.0317, 'M': 0.0301,\n",
    "    'S': 0.0574, 'L': 0.0548, 'C': 0.0454, 'U': 0.0363, 'D': 0.0338, 'P': 0.0317, 'M': 0.0301,\n",
    "}\n",
    "\n",
    "Guess = str #actually just a char\n",
    "Solution = [str]\n",
    "Index = int\n",
    "\n",
    "class Result(Enum):\n",
    "    Correct = 1\n",
    "    Present = 2\n",
    "    Incorrect = 3"
   ]
  },
  {
   "cell_type": "code",
   "execution_count": null,
   "id": "59986f12-bba8-4485-9c5d-48529fa3cd2f",
   "metadata": {},
   "outputs": [],
   "source": [
    "def simulate_wordle(solution, n=50):\n",
    "    for _ in range(1,n):\n",
    "        place_guess"
   ]
  },
  {
   "cell_type": "code",
   "execution_count": 6,
   "id": "85fdbc3c-cc1c-45ce-9360-6c916e43fcbb",
   "metadata": {},
   "outputs": [],
   "source": [
    "def place_guess(guess: Guess, index: Index, solution: Solution):\n",
    "    if solution[index] == guess:\n",
    "        return Result.Correct\n",
    "    elif guess in solution:\n",
    "        return Result.Present\n",
    "    else:\n",
    "        return Result.Incorrect"
   ]
  },
  {
   "cell_type": "code",
   "execution_count": 9,
   "id": "470a5002-3b2a-4ebe-867d-96ce3aee1ced",
   "metadata": {},
   "outputs": [],
   "source": [
    "a = place_guess(\"a\", 3, \"name\")"
   ]
  },
  {
   "cell_type": "code",
   "execution_count": 10,
   "id": "9bdd7c60-1e05-4222-be60-21fd9054417b",
   "metadata": {},
   "outputs": [
    {
     "data": {
      "text/plain": [
       "True"
      ]
     },
     "execution_count": 10,
     "metadata": {},
     "output_type": "execute_result"
    }
   ],
   "source": [
    "a == Result.Present"
   ]
  },
  {
   "cell_type": "code",
   "execution_count": null,
   "id": "8d338018-2536-4dd7-b40b-5df0882eb895",
   "metadata": {},
   "outputs": [],
   "source": []
  }
 ],
 "metadata": {
  "kernelspec": {
   "display_name": "Python 3 (ipykernel)",
   "language": "python",
   "name": "python3"
  },
  "language_info": {
   "codemirror_mode": {
    "name": "ipython",
    "version": 3
   },
   "file_extension": ".py",
   "mimetype": "text/x-python",
   "name": "python",
   "nbconvert_exporter": "python",
   "pygments_lexer": "ipython3",
   "version": "3.10.12"
  }
 },
 "nbformat": 4,
 "nbformat_minor": 5
}
