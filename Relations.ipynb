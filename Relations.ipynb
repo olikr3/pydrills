{
 "cells": [
  {
   "cell_type": "code",
   "execution_count": 18,
   "id": "28a68373-39eb-4841-a3ec-2f910313415f",
   "metadata": {},
   "outputs": [],
   "source": [
    "import itertools\n",
    "import matplotlib.pyplot as plt"
   ]
  },
  {
   "cell_type": "code",
   "execution_count": 40,
   "id": "515c177c-e861-4f04-adf6-20ec9cb3c335",
   "metadata": {},
   "outputs": [],
   "source": [
    "\"\"\"\n",
    "a relation on a set R, i.e. a subset of the cartesian product RxR.\n",
    "R should be provided as a list; duplicates are stripped\n",
    "\"\"\"\n",
    "class Binary_Relation:\n",
    "\n",
    "    def __init__(self, R, rule):\n",
    "        self.R = set(R)\n",
    "        self.rule = rule\n",
    "        self.result = list(filter(rule, R))\n",
    "\n",
    "    @classmethod\n",
    "    def from_list(cls, R, rSet):\n",
    "        instance = cls(R, None)  # Create a new instance of Binary_Relation\n",
    "        instance.result = set(rSet)\n",
    "        return instance\n",
    "\n",
    "    def get_result(self):\n",
    "        return self.result\n",
    "\n",
    "    def set_size(self):\n",
    "        return len(self.R)"
   ]
  },
  {
   "cell_type": "code",
   "execution_count": 41,
   "id": "3c0a993a-2cca-4c59-ade3-598597d746ff",
   "metadata": {},
   "outputs": [],
   "source": [
    "a = Binary_Relation([1,2,3,4], lambda x: x % 2 == 0)"
   ]
  },
  {
   "cell_type": "code",
   "execution_count": 42,
   "id": "af34e080-0817-4ac1-ac98-a7fb9a790701",
   "metadata": {},
   "outputs": [
    {
     "name": "stdout",
     "output_type": "stream",
     "text": [
      "[2, 4]\n"
     ]
    }
   ],
   "source": [
    "print(a.get_result())"
   ]
  },
  {
   "cell_type": "markdown",
   "id": "2e831431-bbf4-4d2e-ac83-652fe5e31bb7",
   "metadata": {},
   "source": [
    "Now let's move on to graphs, which constitute relations on the vertex set V."
   ]
  },
  {
   "cell_type": "code",
   "execution_count": 43,
   "id": "b4dd765e-b1cd-4d7f-99c4-32d820d73daf",
   "metadata": {},
   "outputs": [
    {
     "name": "stdout",
     "output_type": "stream",
     "text": [
      "{'BC', 'AB', 'CD', 'AC'}\n"
     ]
    }
   ],
   "source": [
    "vertex_list = [\"A\", \"B\", \"C\", \"D\", \"E\"]\n",
    "edge_list = [\"AB\", \"AC\", \"BC\", \"CD\"]\n",
    "\n",
    "G = Binary_Relation.from_list(vertex_list, edge_list)\n",
    "print(G.get_result())"
   ]
  },
  {
   "cell_type": "code",
   "execution_count": 46,
   "id": "203a3f5b-e264-4d5b-a7f9-c231566a160b",
   "metadata": {},
   "outputs": [],
   "source": [
    "\n",
    "def djikstra(g, start):\n",
    "    visited = [false for i in range (len(g.set_size()))]"
   ]
  },
  {
   "cell_type": "code",
   "execution_count": null,
   "id": "fdad7986-cbe5-4a7c-af6a-a4432f6bed8d",
   "metadata": {},
   "outputs": [],
   "source": []
  }
 ],
 "metadata": {
  "kernelspec": {
   "display_name": "Python 3 (ipykernel)",
   "language": "python",
   "name": "python3"
  },
  "language_info": {
   "codemirror_mode": {
    "name": "ipython",
    "version": 3
   },
   "file_extension": ".py",
   "mimetype": "text/x-python",
   "name": "python",
   "nbconvert_exporter": "python",
   "pygments_lexer": "ipython3",
   "version": "3.10.12"
  }
 },
 "nbformat": 4,
 "nbformat_minor": 5
}
